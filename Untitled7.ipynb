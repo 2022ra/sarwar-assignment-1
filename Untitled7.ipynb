{
 "cells": [
  {
   "cell_type": "code",
   "execution_count": 3,
   "id": "f8586c0d",
   "metadata": {},
   "outputs": [
    {
     "name": "stdout",
     "output_type": "stream",
     "text": [
      "Number of even number :  5\n",
      "Number of odd number :  4\n"
     ]
    }
   ],
   "source": [
    "l = [1,2,3,4,5,6,7,8,9] \n",
    "\n",
    "even, odd= 0, 0\n",
    "\n",
    "for i in l: \n",
    "\n",
    "    if i % 2 == 0: \n",
    "\n",
    "        odd += 1\n",
    "\n",
    "    else: \n",
    "\n",
    "        even+= 1          \n",
    "\n",
    "print(\"Number of even number : \", even) \n",
    "\n",
    "print(\"Number of odd number : \", odd)"
   ]
  },
  {
   "cell_type": "code",
   "execution_count": null,
   "id": "9311e97d",
   "metadata": {},
   "outputs": [],
   "source": []
  }
 ],
 "metadata": {
  "kernelspec": {
   "display_name": "Python 3 (ipykernel)",
   "language": "python",
   "name": "python3"
  },
  "language_info": {
   "codemirror_mode": {
    "name": "ipython",
    "version": 3
   },
   "file_extension": ".py",
   "mimetype": "text/x-python",
   "name": "python",
   "nbconvert_exporter": "python",
   "pygments_lexer": "ipython3",
   "version": "3.10.6"
  }
 },
 "nbformat": 4,
 "nbformat_minor": 5
}
